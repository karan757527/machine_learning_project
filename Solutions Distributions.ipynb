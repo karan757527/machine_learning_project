{
 "cells": [
  {
   "cell_type": "markdown",
   "metadata": {},
   "source": [
    "# Karan Agrawal"
   ]
  },
  {
   "cell_type": "code",
   "execution_count": null,
   "metadata": {},
   "outputs": [],
   "source": []
  },
  {
   "cell_type": "markdown",
   "metadata": {},
   "source": [
    "    Report on;\n",
    "        1. Bernouli Distribution\n",
    "        2. Uniform Distribution\n",
    "        3. Binomial Distribution\n",
    "        4. Normal Distribution (Gaussian Distribution)\n",
    "        5. Poisson Distribution\n",
    "        6. Exponential Distribution"
   ]
  },
  {
   "cell_type": "markdown",
   "metadata": {},
   "source": [
    "##  1. Bernouli Distribution"
   ]
  },
  {
   "cell_type": "markdown",
   "metadata": {},
   "source": [
    "    It is a simple distribution of probability.\n",
    "    It can only have two outcomes: Success or Failure.\n",
    "    If probability of Succes is p then that of Failure is i-p."
   ]
  },
  {
   "cell_type": "markdown",
   "metadata": {},
   "source": [
    "    for ex:\n",
    "        probaility of getting 3 on a dice is 1/6\n",
    "        then probability of not getting 3 is 5/6\n",
    "    it can be plotted as:"
   ]
  },
  {
   "cell_type": "code",
   "execution_count": 5,
   "metadata": {},
   "outputs": [],
   "source": [
    "from matplotlib import pyplot as plot"
   ]
  },
  {
   "cell_type": "code",
   "execution_count": 21,
   "metadata": {},
   "outputs": [
    {
     "data": {
      "text/plain": [
       "<BarContainer object of 2 artists>"
      ]
     },
     "execution_count": 21,
     "metadata": {},
     "output_type": "execute_result"
    },
    {
     "data": {
      "image/png": "[encoded data removed]",
      "text/plain": [
       "<Figure size 432x288 with 1 Axes>"
      ]
     },
     "metadata": {
      "needs_background": "light"
     },
     "output_type": "display_data"
    }
   ],
   "source": [
    "n=[1/6,5/6]\n",
    "e=[\"Getting 3\",\"Not Getting 3\"]\n",
    "plot.bar(e,n,ec=\"k\")"
   ]
  },
  {
   "cell_type": "code",
   "execution_count": null,
   "metadata": {},
   "outputs": [],
   "source": []
  },
  {
   "cell_type": "code",
   "execution_count": null,
   "metadata": {},
   "outputs": [],
   "source": []
  },
  {
   "cell_type": "markdown",
   "metadata": {},
   "source": [
    "## 2. Uniform Distribution"
   ]
  },
  {
   "cell_type": "markdown",
   "metadata": {},
   "source": [
    "    It is also known as rectangular Distribution.\n",
    "    It shows that probability of every event is Similar.\n",
    "    If occurences of e is 2 then from perfectly uniforn other data must occur 2 times only. "
   ]
  },
  {
   "cell_type": "markdown",
   "metadata": {},
   "source": [
    "    For Ex:\n",
    "        Probability og getting 1 in a dice is 1/6\n",
    "        and it is similar for 2,3,4,5,6"
   ]
  },
  {
   "cell_type": "code",
   "execution_count": 20,
   "metadata": {},
   "outputs": [
    {
     "data": {
      "text/plain": [
       "<BarContainer object of 6 artists>"
      ]
     },
     "execution_count": 20,
     "metadata": {},
     "output_type": "execute_result"
    },
    {
     "data": {
      "image/png": "[encoded data removed]",
      "text/plain": [
       "<Figure size 432x288 with 1 Axes>"
      ]
     },
     "metadata": {
      "needs_background": "light"
     },
     "output_type": "display_data"
    }
   ],
   "source": [
    "n=[1,2,3,4,5,6]\n",
    "e=[1/6]*6\n",
    "plot.bar(n,e,ec=\"k\")"
   ]
  },
  {
   "cell_type": "code",
   "execution_count": null,
   "metadata": {},
   "outputs": [],
   "source": []
  },
  {
   "cell_type": "code",
   "execution_count": null,
   "metadata": {},
   "outputs": [],
   "source": []
  },
  {
   "cell_type": "markdown",
   "metadata": {},
   "source": [
    "## 3. Binomial Distribution"
   ]
  },
  {
   "cell_type": "markdown",
   "metadata": {},
   "source": [
    "    It is Similar to bernouli distribution but in this an event occurs multiple times.\n",
    "    Events must be independent.\n",
    "    It must have two outcomes Success and Failure."
   ]
  },
  {
   "cell_type": "markdown",
   "metadata": {},
   "source": [
    "    For Ex:\n",
    "        Probability of getting even no. on dice is 1/2\n",
    "        if we roll dice 3 times then probability of getting even no :\n",
    "            0 times is:0.125\n",
    "            1 time is:0.375\n",
    "            2 times is:0.375\n",
    "            3 times is:0.125\n",
    "        it can be calculated by:\n",
    "            (pCx)*(p^x)*((1-p)^(n-x))"
   ]
  },
  {
   "cell_type": "code",
   "execution_count": 23,
   "metadata": {},
   "outputs": [
    {
     "data": {
      "text/plain": [
       "<BarContainer object of 4 artists>"
      ]
     },
     "execution_count": 23,
     "metadata": {},
     "output_type": "execute_result"
    },
    {
     "data": {
      "image/png": "[encoded data removed]",
      "text/plain": [
       "<Figure size 432x288 with 1 Axes>"
      ]
     },
     "metadata": {
      "needs_background": "light"
     },
     "output_type": "display_data"
    }
   ],
   "source": [
    "n=[0,1,2,3]\n",
    "e=[0.125,0.375,0.375,0.125]\n",
    "plot.bar(n,e,ec=\"k\")"
   ]
  },
  {
   "cell_type": "code",
   "execution_count": null,
   "metadata": {},
   "outputs": [],
   "source": []
  },
  {
   "cell_type": "code",
   "execution_count": null,
   "metadata": {},
   "outputs": [],
   "source": []
  },
  {
   "cell_type": "markdown",
   "metadata": {},
   "source": [
    "## 4. Normal Distribution"
   ]
  },
  {
   "cell_type": "markdown",
   "metadata": {},
   "source": [
    "    It is a bell shaped curve.\n",
    "    It represents values occuring under some fixed standard deviations."
   ]
  },
  {
   "cell_type": "markdown",
   "metadata": {},
   "source": [
    "    For Ex.:\n",
    "        let us have some data.\n",
    "        x=[146.22233393,129.7158401 ,146.21345811,152.7729837,126.20083454,131.05761474,136.53433018,146.14531629,152.42223368,137.88137442]\n",
    "        its mean is 10\n",
    "        its sd is 10\n",
    "    then the curve will be represented as bell shape"
   ]
  },
  {
   "cell_type": "code",
   "execution_count": 35,
   "metadata": {},
   "outputs": [
    {
     "data": {
      "text/plain": [
       "(array([2.0000e+00, 0.0000e+00, 3.0000e+00, 1.9000e+01, 4.5000e+01,\n",
       "        1.1300e+02, 2.7200e+02, 6.3700e+02, 1.1610e+03, 2.1330e+03,\n",
       "        3.4530e+03, 5.4180e+03, 7.4410e+03, 9.5590e+03, 1.1138e+04,\n",
       "        1.1610e+04, 1.1505e+04, 1.0347e+04, 8.5080e+03, 6.2970e+03,\n",
       "        4.4870e+03, 2.6950e+03, 1.6040e+03, 8.5000e+02, 4.2800e+02,\n",
       "        1.6200e+02, 6.9000e+01, 2.7000e+01, 1.2000e+01, 5.0000e+00]),\n",
       " array([ 93.02242284,  96.00614765,  98.98987246, 101.97359728,\n",
       "        104.95732209, 107.9410469 , 110.92477172, 113.90849653,\n",
       "        116.89222134, 119.87594616, 122.85967097, 125.84339578,\n",
       "        128.8271206 , 131.81084541, 134.79457022, 137.77829504,\n",
       "        140.76201985, 143.74574466, 146.72946948, 149.71319429,\n",
       "        152.6969191 , 155.68064392, 158.66436873, 161.64809354,\n",
       "        164.63181836, 167.61554317, 170.59926799, 173.5829928 ,\n",
       "        176.56671761, 179.55044243, 182.53416724]),\n",
       " <a list of 30 Patch objects>)"
      ]
     },
     "execution_count": 35,
     "metadata": {},
     "output_type": "execute_result"
    },
    {
     "data": {
      "image/png": "[encoded data removed]",
      "text/plain": [
       "<Figure size 432x288 with 1 Axes>"
      ]
     },
     "metadata": {
      "needs_background": "light"
     },
     "output_type": "display_data"
    }
   ],
   "source": [
    "import numpy as np\n",
    "x = np.random.normal(140, 10, 100000 )\n",
    "plot.hist(x,bins=30,ec=\"k\")"
   ]
  },
  {
   "cell_type": "markdown",
   "metadata": {},
   "source": [
    "## 5. Poisson Distribution"
   ]
  },
  {
   "cell_type": "markdown",
   "metadata": {},
   "source": [
    "    It is used to predict the probability of an event to occur based on old data.\n",
    "    It uses previous averages to calclate possiblity of enent in future.\n",
    "    If m is mean of events in past and x is event to occur then probabiility of x to occur is:\n",
    "        p=(e^(-m) * m^x) / fact(x)\n",
    "            where is eulers constant=2.71828"
   ]
  },
  {
   "cell_type": "markdown",
   "metadata": {},
   "source": [
    "    For Ex.:\n",
    "        If you become ill twice a year averagely then probability of becoming 3 times ill.\n",
    "        m=2\n",
    "        x=3\n",
    "        from formulae p=.18"
   ]
  },
  {
   "cell_type": "code",
   "execution_count": 40,
   "metadata": {},
   "outputs": [
    {
     "name": "stdout",
     "output_type": "stream",
     "text": [
      "0.1804470443154836\n"
     ]
    }
   ],
   "source": [
    "import math\n",
    "m=2\n",
    "x=3\n",
    "fact_x=6\n",
    "p=((math.e**(-m))*(m**x))/fact_x\n",
    "print(p)"
   ]
  },
  {
   "cell_type": "code",
   "execution_count": null,
   "metadata": {},
   "outputs": [],
   "source": []
  },
  {
   "cell_type": "code",
   "execution_count": null,
   "metadata": {},
   "outputs": [],
   "source": []
  },
  {
   "cell_type": "markdown",
   "metadata": {},
   "source": [
    "## 6. Exponential Distribution"
   ]
  },
  {
   "cell_type": "markdown",
   "metadata": {},
   "source": [
    "    It is used to represent the time difference between events."
   ]
  },
  {
   "cell_type": "markdown",
   "metadata": {},
   "source": [
    "    For Ex.:\n",
    "        No of accidents happened today\n",
    "        The time between each accident can be modelled as exponential distribution\n",
    "        x=[1,2,3,3.5,4,4.23,5,5.15,5.20]\n",
    "        these are times of accidents happened"
   ]
  },
  {
   "cell_type": "code",
   "execution_count": null,
   "metadata": {},
   "outputs": [],
   "source": []
  },
  {
   "cell_type": "code",
   "execution_count": null,
   "metadata": {},
   "outputs": [],
   "source": []
  },
  {
   "cell_type": "code",
   "execution_count": null,
   "metadata": {},
   "outputs": [],
   "source": []
  },
  {
   "cell_type": "code",
   "execution_count": null,
   "metadata": {},
   "outputs": [],
   "source": []
  },
  {
   "cell_type": "code",
   "execution_count": null,
   "metadata": {},
   "outputs": [],
   "source": []
  }
 ],
 "metadata": {
  "kernelspec": {
   "display_name": "Python 3",
   "language": "python",
   "name": "python3"
  },
  "language_info": {
   "codemirror_mode": {
    "name": "ipython",
    "version": 3
   },
   "file_extension": ".py",
   "mimetype": "text/x-python",
   "name": "python",
   "nbconvert_exporter": "python",
   "pygments_lexer": "ipython3",
   "version": "3.7.6"
  }
 },
 "nbformat": 4,
 "nbformat_minor": 4
}
