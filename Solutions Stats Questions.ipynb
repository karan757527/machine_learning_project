{
 "cells": [
  {
   "cell_type": "markdown",
   "metadata": {},
   "source": [
    "# Karan Agrawal"
   ]
  },
  {
   "cell_type": "code",
   "execution_count": null,
   "metadata": {},
   "outputs": [],
   "source": []
  },
  {
   "cell_type": "markdown",
   "metadata": {},
   "source": [
    "## Q-1"
   ]
  },
  {
   "cell_type": "code",
   "execution_count": 1,
   "metadata": {},
   "outputs": [
    {
     "name": "stdin",
     "output_type": "stream",
     "text": [
      " 5\n",
      " 1 2 2 3 3 \n"
     ]
    },
    {
     "name": "stdout",
     "output_type": "stream",
     "text": [
      "2.2\n",
      "2\n",
      "2\n"
     ]
    }
   ],
   "source": [
    "n=int(input())\n",
    "x=list(map(int,input().split()))\n",
    "x.sort()\n",
    "mean=sum(x)/n\n",
    "if n%2==0:\n",
    "    median=(x[n//2]+x[(n//2)-1])/2\n",
    "else:\n",
    "    median=x[n//2]\n",
    "mode = max(sorted(x), key=x.count)\n",
    "mean=round(mean,1)\n",
    "median=round(median,1)\n",
    "print(mean,median,mode,sep=\"\\n\")"
   ]
  },
  {
   "cell_type": "code",
   "execution_count": null,
   "metadata": {},
   "outputs": [],
   "source": []
  },
  {
   "cell_type": "markdown",
   "metadata": {},
   "source": [
    "## Q-2"
   ]
  },
  {
   "cell_type": "code",
   "execution_count": 21,
   "metadata": {},
   "outputs": [
    {
     "name": "stdin",
     "output_type": "stream",
     "text": [
      " 5\n",
      " 1 2 3 4 5\n",
      " 5 4 3 2 1\n"
     ]
    },
    {
     "name": "stdout",
     "output_type": "stream",
     "text": [
      "2.3\n"
     ]
    }
   ],
   "source": [
    "n=int(input())\n",
    "x=list(map(int,input().split()))\n",
    "w=list(map(int,input().split()))\n",
    "wx=list(map(lambda a,b:a*b,x,w))\n",
    "mean=round(sum(wx)/sum(w),1)\n",
    "print(mean)"
   ]
  },
  {
   "cell_type": "code",
   "execution_count": null,
   "metadata": {},
   "outputs": [],
   "source": []
  },
  {
   "cell_type": "markdown",
   "metadata": {},
   "source": [
    "## Q-3"
   ]
  },
  {
   "cell_type": "code",
   "execution_count": 36,
   "metadata": {},
   "outputs": [
    {
     "name": "stdin",
     "output_type": "stream",
     "text": [
      " 25\n",
      " 43 54 56 61 62 66 68 69 69 70 71 72 77 78 79 85 87 88 89 93 95 96 98 99 99\n"
     ]
    },
    {
     "name": "stdout",
     "output_type": "stream",
     "text": [
      "68\n",
      "77\n",
      "89\n"
     ]
    }
   ],
   "source": [
    "import math\n",
    "n=int(input())\n",
    "x=list(map(int,input().split()))\n",
    "x.sort()\n",
    "q1=x[math.ceil(n/4)-1]\n",
    "q2=x[math.ceil(n/2)-1]\n",
    "q3=x[math.ceil((3*n)/4)-1]\n",
    "print(q1,q2,q3,sep=\"\\n\")"
   ]
  },
  {
   "cell_type": "code",
   "execution_count": null,
   "metadata": {},
   "outputs": [],
   "source": []
  },
  {
   "cell_type": "markdown",
   "metadata": {},
   "source": [
    "## Q-4"
   ]
  },
  {
   "cell_type": "markdown",
   "metadata": {},
   "source": [
    "#### Mean of a data will always be affected, even if we change a single value in data"
   ]
  },
  {
   "cell_type": "code",
   "execution_count": null,
   "metadata": {},
   "outputs": [],
   "source": []
  },
  {
   "cell_type": "markdown",
   "metadata": {},
   "source": [
    "## Q-5"
   ]
  },
  {
   "cell_type": "markdown",
   "metadata": {},
   "source": [
    "#### There are mainly three measures of central tendancy:\n",
    "    Mean\n",
    "    Median\n",
    "    Mode"
   ]
  },
  {
   "cell_type": "code",
   "execution_count": null,
   "metadata": {},
   "outputs": [],
   "source": []
  },
  {
   "cell_type": "markdown",
   "metadata": {},
   "source": [
    "## Q-6"
   ]
  },
  {
   "cell_type": "markdown",
   "metadata": {},
   "source": [
    "    No, Standard Deviation is Not Robust to Outliners nor mean but median is Robust to outliners."
   ]
  },
  {
   "cell_type": "code",
   "execution_count": null,
   "metadata": {},
   "outputs": [],
   "source": []
  },
  {
   "cell_type": "markdown",
   "metadata": {},
   "source": [
    "## Q-7"
   ]
  },
  {
   "cell_type": "code",
   "execution_count": 3,
   "metadata": {},
   "outputs": [
    {
     "name": "stdin",
     "output_type": "stream",
     "text": [
      " 5\n",
      " 1 2 3 4 5\n"
     ]
    },
    {
     "name": "stdout",
     "output_type": "stream",
     "text": [
      "1.6\n"
     ]
    }
   ],
   "source": [
    "import math\n",
    "n=int(input())\n",
    "x=list(map(int,input().split()))\n",
    "mean=sum(x)/n\n",
    "d=[(mean-a)**2 for a in x]\n",
    "d=round(math.sqrt(sum(d)/(n-1)),1)\n",
    "print(d)"
   ]
  },
  {
   "cell_type": "code",
   "execution_count": null,
   "metadata": {},
   "outputs": [],
   "source": []
  },
  {
   "cell_type": "markdown",
   "metadata": {},
   "source": [
    "## Q-8"
   ]
  },
  {
   "cell_type": "code",
   "execution_count": 43,
   "metadata": {},
   "outputs": [
    {
     "name": "stdout",
     "output_type": "stream",
     "text": [
      "5.2\n",
      "5.5\n",
      "6\n",
      "6\n"
     ]
    }
   ],
   "source": [
    "x=[5, 6, 2, 4, 7, 8, 3, 5, 6, 6]\n",
    "x.sort()\n",
    "mean=sum(x)/n\n",
    "if n%2==0:\n",
    "    median=(x[n//2]+x[(n//2)-1])/2\n",
    "else:\n",
    "    median=x[n/2]\n",
    "mode = max(sorted(x), key=x.count)\n",
    "mean=round(mean,1)\n",
    "median=round(median,1)\n",
    "r=max(x)-min(x)\n",
    "print(mean,median,mode,r,sep=\"\\n\")"
   ]
  },
  {
   "cell_type": "code",
   "execution_count": null,
   "metadata": {},
   "outputs": [],
   "source": []
  },
  {
   "cell_type": "markdown",
   "metadata": {},
   "source": [
    "## Q-9"
   ]
  },
  {
   "cell_type": "code",
   "execution_count": 45,
   "metadata": {},
   "outputs": [
    {
     "name": "stdout",
     "output_type": "stream",
     "text": [
      "(a) Mode is 4\n",
      "(b)(i) Mean is 3.4\n",
      "(b)(ii) Median is 3.5\n",
      "(c) Because Mode gives the value which occurs the most.\n",
      "(d)(i) 3/10->0.3 Because here fours occurs thrice.\n",
      "(d)(ii) 2/10->0.2 Because values more than four here are 5 and 7 occuring once both\n"
     ]
    }
   ],
   "source": [
    "x=[4, 1, 5, 4, 3, 7, 2, 3, 4, 1]\n",
    "x.sort()\n",
    "mean=sum(x)/n\n",
    "if n%2==0:\n",
    "    median=(x[n//2]+x[(n//2)-1])/2\n",
    "else:\n",
    "    median=x[n/2]\n",
    "mode = max(sorted(x), key=x.count)\n",
    "mean=round(mean,1)\n",
    "median=round(median,1)\n",
    "r=max(x)-min(x)\n",
    "print(\"(a) Mode is\",mode)\n",
    "print(\"(b)(i) Mean is\",mean)\n",
    "print(\"(b)(ii) Median is\",median)\n",
    "print(\"(c) Because Mode gives the value which occurs the most.\")\n",
    "print(\"(d)(i) 3/10->0.3 Because here fours occurs thrice.\")\n",
    "print(\"(d)(ii) 2/10->0.2 Because values more than four here are 5 and 7 occuring once both\")\n"
   ]
  },
  {
   "cell_type": "code",
   "execution_count": null,
   "metadata": {},
   "outputs": [],
   "source": []
  },
  {
   "cell_type": "markdown",
   "metadata": {},
   "source": [
    "## Q-10"
   ]
  },
  {
   "cell_type": "code",
   "execution_count": 47,
   "metadata": {},
   "outputs": [
    {
     "name": "stdin",
     "output_type": "stream",
     "text": [
      " 5\n",
      " 10 40 30 50 20\n",
      " 1 2 3 4 5\n"
     ]
    },
    {
     "name": "stdout",
     "output_type": "stream",
     "text": [
      "30\n"
     ]
    }
   ],
   "source": [
    "n=int(input())\n",
    "x=list(map(int,input().split()))\n",
    "f=list(map(int,input().split()))\n",
    "l=[]\n",
    "for i in range(n):\n",
    "    for j in range(f[i]):\n",
    "        l.append(x[i])\n",
    "x=l\n",
    "n=len(x)\n",
    "x.sort()\n",
    "q1=x[math.ceil(n/4)-1]\n",
    "q3=x[math.ceil((3*n)/4)-1]\n",
    "print(round(q3-q1,1))"
   ]
  },
  {
   "cell_type": "code",
   "execution_count": null,
   "metadata": {},
   "outputs": [],
   "source": []
  }
 ],
 "metadata": {
  "kernelspec": {
   "display_name": "Python 3",
   "language": "python",
   "name": "python3"
  },
  "language_info": {
   "codemirror_mode": {
    "name": "ipython",
    "version": 3
   },
   "file_extension": ".py",
   "mimetype": "text/x-python",
   "name": "python",
   "nbconvert_exporter": "python",
   "pygments_lexer": "ipython3",
   "version": "3.7.6"
  }
 },
 "nbformat": 4,
 "nbformat_minor": 4
}
